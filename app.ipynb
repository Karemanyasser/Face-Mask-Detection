{
 "cells": [
  {
   "cell_type": "code",
   "execution_count": 6,
   "id": "d94f2130",
   "metadata": {},
   "outputs": [],
   "source": [
    "import cv2\n",
    "import numpy as np\n",
    "import matplotlib.pyplot as plt \n",
    "haar_data=cv2.CascadeClassifier(\"haarcascade_frontalface_default.xml\")"
   ]
  },
  {
   "cell_type": "code",
   "execution_count": 7,
   "id": "0a3d383a",
   "metadata": {},
   "outputs": [],
   "source": [
    "# capture=cv2.VideoCapture(0)\n",
    "# data=[]\n",
    "# while True:\n",
    "#     flag,img=capture.read()\n",
    "#     if flag:\n",
    "#         faces=haar_data.detectMultiScale(img)\n",
    "#         for x,y,h,w in faces:\n",
    "#             cv2.rectangle(img,(x,y),(x+w,(y+h)),(255,255,0),4)\n",
    "#             face=img[y:y+h,x:x+w,:]\n",
    "#             face=cv2.resize(face,(50,50))\n",
    "#             if (len(data))<200:\n",
    "#                 data.append(face)\n",
    "#         cv2.imshow('final',img)\n",
    "#         if cv2.waitKey(2)==27 or len(data)>=200:\n",
    "#             break\n",
    "# capture.release()\n",
    "# cv2.destroyAllWindows()\n",
    "            "
   ]
  },
  {
   "cell_type": "code",
   "execution_count": 8,
   "id": "4c8bb947",
   "metadata": {},
   "outputs": [],
   "source": [
    "# np.save(\"without_mask.npy\",data)"
   ]
  },
  {
   "cell_type": "code",
   "execution_count": 9,
   "id": "2fd9d6fd",
   "metadata": {},
   "outputs": [],
   "source": [
    "# np.save(\"mask.npy\",data)"
   ]
  },
  {
   "cell_type": "code",
   "execution_count": 10,
   "id": "df91383b",
   "metadata": {},
   "outputs": [],
   "source": [
    "with_mask=np.load(\"mask.npy\")\n",
    "without_mask=np.load(\"without_mask.npy\")"
   ]
  },
  {
   "cell_type": "code",
   "execution_count": 11,
   "id": "5158f3cd",
   "metadata": {},
   "outputs": [],
   "source": [
    "with_mask=with_mask.reshape(200,50*50*3)\n",
    "without_mask=without_mask.reshape(200,50*50*3)"
   ]
  },
  {
   "cell_type": "code",
   "execution_count": 12,
   "id": "1ea0a080",
   "metadata": {},
   "outputs": [],
   "source": [
    "X=np.r_[with_mask,without_mask]"
   ]
  },
  {
   "cell_type": "code",
   "execution_count": 13,
   "id": "7047a28e",
   "metadata": {},
   "outputs": [],
   "source": [
    "labels=np.zeros(X.shape[0])\n"
   ]
  },
  {
   "cell_type": "code",
   "execution_count": 14,
   "id": "2d4a5428",
   "metadata": {},
   "outputs": [],
   "source": [
    "labels[200:]=1.0"
   ]
  },
  {
   "cell_type": "code",
   "execution_count": 15,
   "id": "43919c16",
   "metadata": {},
   "outputs": [],
   "source": [
    "names={0:'Mask',1:'No Mask'}"
   ]
  },
  {
   "cell_type": "code",
   "execution_count": 16,
   "id": "640faf7b",
   "metadata": {},
   "outputs": [],
   "source": [
    "from sklearn import svm\n",
    "from sklearn.model_selection import train_test_split\n"
   ]
  },
  {
   "cell_type": "code",
   "execution_count": 17,
   "id": "fedf9ae4",
   "metadata": {},
   "outputs": [],
   "source": [
    "x_train,x_test,y_train,y_test=train_test_split(X,labels,test_size=0.3,random_state=42)"
   ]
  },
  {
   "cell_type": "code",
   "execution_count": 18,
   "id": "62094c2e",
   "metadata": {},
   "outputs": [],
   "source": [
    "model = svm.SVC(kernel = 'linear', random_state = 0, C=1.0)"
   ]
  },
  {
   "cell_type": "code",
   "execution_count": 19,
   "id": "af050304",
   "metadata": {},
   "outputs": [
    {
     "data": {
      "text/plain": [
       "SVC(kernel='linear', random_state=0)"
      ]
     },
     "execution_count": 19,
     "metadata": {},
     "output_type": "execute_result"
    }
   ],
   "source": [
    "model.fit(x_train, y_train)"
   ]
  },
  {
   "cell_type": "code",
   "execution_count": 20,
   "id": "2cc97c01",
   "metadata": {},
   "outputs": [],
   "source": [
    "y_predict=model.predict(x_test)"
   ]
  },
  {
   "cell_type": "code",
   "execution_count": 21,
   "id": "cf10f9d4",
   "metadata": {},
   "outputs": [
    {
     "data": {
      "text/plain": [
       "1.0"
      ]
     },
     "execution_count": 21,
     "metadata": {},
     "output_type": "execute_result"
    }
   ],
   "source": [
    "model.score(x_test,y_test)"
   ]
  },
  {
   "cell_type": "code",
   "execution_count": 22,
   "id": "898e75c1",
   "metadata": {},
   "outputs": [
    {
     "ename": "KeyboardInterrupt",
     "evalue": "",
     "output_type": "error",
     "traceback": [
      "\u001b[1;31m---------------------------------------------------------------------------\u001b[0m",
      "\u001b[1;31mKeyboardInterrupt\u001b[0m                         Traceback (most recent call last)",
      "\u001b[1;32m~\\AppData\\Local\\Temp\\ipykernel_32488\\2782398525.py\u001b[0m in \u001b[0;36m<module>\u001b[1;34m\u001b[0m\n\u001b[0;32m     17\u001b[0m             \u001b[0mimage\u001b[0m \u001b[1;33m=\u001b[0m \u001b[0mcv2\u001b[0m\u001b[1;33m.\u001b[0m\u001b[0mputText\u001b[0m\u001b[1;33m(\u001b[0m\u001b[0mimg\u001b[0m\u001b[1;33m,\u001b[0m\u001b[0mn\u001b[0m\u001b[1;33m,\u001b[0m\u001b[1;33m(\u001b[0m\u001b[0mx\u001b[0m\u001b[1;33m,\u001b[0m\u001b[0my\u001b[0m\u001b[1;33m)\u001b[0m\u001b[1;33m,\u001b[0m \u001b[0mfont\u001b[0m\u001b[1;33m,\u001b[0m \u001b[1;36m1\u001b[0m\u001b[1;33m,\u001b[0m \u001b[1;33m(\u001b[0m\u001b[1;36m255\u001b[0m\u001b[1;33m,\u001b[0m\u001b[1;36m255\u001b[0m\u001b[1;33m,\u001b[0m\u001b[1;36m255\u001b[0m\u001b[1;33m)\u001b[0m\u001b[1;33m,\u001b[0m \u001b[1;36m2\u001b[0m\u001b[1;33m)\u001b[0m\u001b[1;33m\u001b[0m\u001b[1;33m\u001b[0m\u001b[0m\n\u001b[0;32m     18\u001b[0m         \u001b[0mcv2\u001b[0m\u001b[1;33m.\u001b[0m\u001b[0mimshow\u001b[0m\u001b[1;33m(\u001b[0m\u001b[1;34m'final'\u001b[0m\u001b[1;33m,\u001b[0m\u001b[0mimg\u001b[0m\u001b[1;33m)\u001b[0m\u001b[1;33m\u001b[0m\u001b[1;33m\u001b[0m\u001b[0m\n\u001b[1;32m---> 19\u001b[1;33m         \u001b[1;32mif\u001b[0m \u001b[0mcv2\u001b[0m\u001b[1;33m.\u001b[0m\u001b[0mwaitKey\u001b[0m\u001b[1;33m(\u001b[0m\u001b[1;36m1\u001b[0m\u001b[1;33m)\u001b[0m\u001b[1;33m&\u001b[0m \u001b[1;36m0xFF\u001b[0m \u001b[1;33m==\u001b[0m \u001b[0mord\u001b[0m\u001b[1;33m(\u001b[0m\u001b[1;34m'q'\u001b[0m\u001b[1;33m)\u001b[0m  \u001b[1;33m:\u001b[0m\u001b[1;33m\u001b[0m\u001b[1;33m\u001b[0m\u001b[0m\n\u001b[0m\u001b[0;32m     20\u001b[0m             \u001b[1;32mbreak\u001b[0m\u001b[1;33m\u001b[0m\u001b[1;33m\u001b[0m\u001b[0m\n\u001b[0;32m     21\u001b[0m \u001b[0mcapture\u001b[0m\u001b[1;33m.\u001b[0m\u001b[0mrelease\u001b[0m\u001b[1;33m(\u001b[0m\u001b[1;33m)\u001b[0m\u001b[1;33m\u001b[0m\u001b[1;33m\u001b[0m\u001b[0m\n",
      "\u001b[1;31mKeyboardInterrupt\u001b[0m: "
     ]
    }
   ],
   "source": [
    "haar_data=cv2.CascadeClassifier(\"haarcascade_frontalface_default.xml\")\n",
    "capture=cv2.VideoCapture(0)\n",
    "data=[]\n",
    "font = cv2.FONT_HERSHEY_SIMPLEX\n",
    "while True:\n",
    "    flag,img=capture.read()\n",
    "    if flag:\n",
    "        faces=haar_data.detectMultiScale(img)\n",
    "        for x,y,h,w in faces:\n",
    "            cv2.rectangle(img,(x,y),(x+w,(y+h)),(68,0,204),2)\n",
    "            cv2.rectangle(img,(x,y-40),(x+w,y),(68,0,204),-2)\n",
    "            face=img[y:y+h,x:x+w,:]\n",
    "            face=cv2.resize(face,(50,50))\n",
    "            face=face.reshape(1,-1)\n",
    "            predict=model.predict(face)[0]\n",
    "            n=names[int(predict)]\n",
    "            image = cv2.putText(img,n,(x,y), font, 1, (255,255,255), 2)\n",
    "        cv2.imshow('final',img)\n",
    "        if cv2.waitKey(1)& 0xFF == ord('q')  :\n",
    "            break\n",
    "capture.release()\n",
    "cv2.destroyAllWindows()"
   ]
  },
  {
   "cell_type": "code",
   "execution_count": null,
   "id": "b7b003b3",
   "metadata": {},
   "outputs": [],
   "source": []
  },
  {
   "cell_type": "code",
   "execution_count": null,
   "id": "8802cba1",
   "metadata": {},
   "outputs": [],
   "source": []
  }
 ],
 "metadata": {
  "kernelspec": {
   "display_name": "Python 3",
   "language": "python",
   "name": "python3"
  },
  "language_info": {
   "codemirror_mode": {
    "name": "ipython",
    "version": 3
   },
   "file_extension": ".py",
   "mimetype": "text/x-python",
   "name": "python",
   "nbconvert_exporter": "python",
   "pygments_lexer": "ipython3",
   "version": "3.9.13"
  },
  "vscode": {
   "interpreter": {
    "hash": "aac245d265a5ff618289f8d140c26f33fb476c8515891a7ea1047f2c959c0715"
   }
  }
 },
 "nbformat": 4,
 "nbformat_minor": 5
}
